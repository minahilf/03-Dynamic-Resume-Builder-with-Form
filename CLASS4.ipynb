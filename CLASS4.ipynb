{
  "cells": [
    {
      "cell_type": "markdown",
      "metadata": {
        "id": "view-in-github",
        "colab_type": "text"
      },
      "source": [
        "<a href=\"https://colab.research.google.com/github/minahilf/03-Dynamic-Resume-Builder-with-Form/blob/master/CLASS4.ipynb\" target=\"_parent\"><img src=\"https://colab.research.google.com/assets/colab-badge.svg\" alt=\"Open In Colab\"/></a>"
      ]
    },
    {
      "cell_type": "markdown",
      "metadata": {
        "id": "E_tedwsiYiMv"
      },
      "source": [
        "Last class topics\n",
        "1. Variables\n",
        "2. data types\n",
        "3. list\n",
        "4. tuples\n",
        "5. dictionaries\n",
        "6. functions\n",
        "7. conditions\n",
        "8. operators\n",
        "\n"
      ]
    },
    {
      "cell_type": "markdown",
      "metadata": {
        "id": "4d66ZkTeeHBr"
      },
      "source": [
        "## **01 Positional Arguments**\n",
        " sync hoke chlte"
      ]
    },
    {
      "cell_type": "code",
      "execution_count": null,
      "metadata": {
        "colab": {
          "base_uri": "https://localhost:8080/"
        },
        "id": "dWYTzo-2aLoW",
        "outputId": "9ebb021f-0246-4c12-a204-b69c765787d8"
      },
      "outputs": [
        {
          "name": "stdout",
          "output_type": "stream",
          "text": [
            "{'email': 'Minahil@gmail.com', 'password': '123'}\n"
          ]
        }
      ],
      "source": [
        "# 01\n",
        "def Login(email, password):\n",
        "  user_obj = {\n",
        "      'email': email,\n",
        "      'password': password\n",
        "  }\n",
        "  print(user_obj)\n",
        "Login(\"Minahil@gmail.com\", \"123\")\n"
      ]
    },
    {
      "cell_type": "markdown",
      "metadata": {
        "id": "uvSTV4Aubfqs"
      },
      "source": [
        "# **02 Keywords Arguments**\n",
        "jb ap apne arg ko declare kro to usko keyword k sth kro parameter k keyword k sth jb ap apne func k caller me us me jb ap arg declare kro usnko keywods k sth declare krdo"
      ]
    },
    {
      "cell_type": "code",
      "execution_count": null,
      "metadata": {
        "colab": {
          "base_uri": "https://localhost:8080/"
        },
        "id": "Lph0fbcebxLC",
        "outputId": "aba4e3b8-2514-4830-c096-1b36fc061800"
      },
      "outputs": [
        {
          "name": "stdout",
          "output_type": "stream",
          "text": [
            "{'email': 'minu@gmail.com', 'password': '!223', 'dob': '22-9-2004'}\n"
          ]
        }
      ],
      "source": [
        "def Login(*, email, password, dob):\n",
        "  user_obj = {\n",
        "      'email': email,\n",
        "      'password': password,\n",
        "      'dob': dob\n",
        "  }\n",
        "  print(user_obj)\n",
        "Login(email = \"minu@gmail.com\", password = \"!223\", dob = \"22-9-2004\")\n"
      ]
    },
    {
      "cell_type": "markdown",
      "metadata": {
        "id": "HdJBBnkNi0sz"
      },
      "source": [
        "##**03 Rest Parameters**\n",
        "jitne bh parameters dalen like jb ham pta nh hota k ktni value ati, double asteriks for unlimited args then jb ap value define krenge t asterik ki trh call hoga like kw arg ki trh"
      ]
    },
    {
      "cell_type": "code",
      "execution_count": null,
      "metadata": {
        "colab": {
          "background_save": true
        },
        "id": "J0rbLhicjLn_",
        "outputId": "1f8cf9ea-f8f8-43a3-a779-cbc62401ddd1"
      },
      "outputs": [
        {
          "name": "stdout",
          "output_type": "stream",
          "text": [
            "{'bitcoin': 234, 'eth': 343}\n"
          ]
        }
      ],
      "source": [
        "def Binance(**kwargs):\n",
        "  print(kwargs)\n",
        "Binance(bitcoin = 234, eth = 343, )\n"
      ]
    },
    {
      "cell_type": "code",
      "execution_count": null,
      "metadata": {
        "id": "B3D9fZp0kfmx"
      },
      "outputs": [],
      "source": []
    }
  ],
  "metadata": {
    "colab": {
      "provenance": [],
      "authorship_tag": "ABX9TyNHo0QpZ/Wm3uZNbOESVUD5",
      "include_colab_link": true
    },
    "kernelspec": {
      "display_name": "Python 3",
      "name": "python3"
    },
    "language_info": {
      "name": "python"
    }
  },
  "nbformat": 4,
  "nbformat_minor": 0
}